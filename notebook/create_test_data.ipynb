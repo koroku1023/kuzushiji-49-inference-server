{
 "cells": [
  {
   "cell_type": "code",
   "execution_count": 1,
   "id": "73124e18-de13-45e3-a504-bb056de23cf5",
   "metadata": {},
   "outputs": [],
   "source": [
    "import numpy as np"
   ]
  },
  {
   "cell_type": "code",
   "execution_count": 2,
   "id": "16ac8e87-f3b1-4de8-b5f5-5c2bc5fd5fdd",
   "metadata": {},
   "outputs": [],
   "source": [
    "test_images = np.load(\"../data/raw/k49-test-imgs.npz\")[\"arr_0\"]"
   ]
  },
  {
   "cell_type": "code",
   "execution_count": 3,
   "id": "17e8f342-7fbd-4dc3-8cc6-6de2071abb71",
   "metadata": {},
   "outputs": [],
   "source": [
    "test_image_0 = test_images[0]\n",
    "test_images_10 = test_images[:10]\n",
    "test_images_100 = test_images[:100]"
   ]
  },
  {
   "cell_type": "code",
   "execution_count": 4,
   "id": "74e47060-5cd6-4d2f-a7ce-799086b9b396",
   "metadata": {},
   "outputs": [],
   "source": [
    "np.savez_compressed(\"../data/test/test_image_0.npz\", arr_0=test_image_0)\n",
    "np.savez_compressed(\"../data/test/test_images_10.npz\", arr_0=test_images_10)\n",
    "np.savez_compressed(\"../data/test/test_images_100.npz\", arr_0=test_images_100)"
   ]
  },
  {
   "cell_type": "code",
   "execution_count": 5,
   "id": "59f09dee-c18a-4d32-b5f1-4792a5a1bb49",
   "metadata": {},
   "outputs": [
    {
     "data": {
      "text/plain": [
       "(28, 28)"
      ]
     },
     "execution_count": 5,
     "metadata": {},
     "output_type": "execute_result"
    }
   ],
   "source": [
    "test_image_0 = np.load(\"../data/test/test_image_0.npz\")[\"arr_0\"]\n",
    "test_image_0.shape"
   ]
  },
  {
   "cell_type": "code",
   "execution_count": 6,
   "id": "9745ee57-bd01-417f-9113-7e4dfd82e043",
   "metadata": {},
   "outputs": [
    {
     "data": {
      "text/plain": [
       "(10, 28, 28)"
      ]
     },
     "execution_count": 6,
     "metadata": {},
     "output_type": "execute_result"
    }
   ],
   "source": [
    "test_images_10 = np.load(\"../data/test/test_images_10.npz\")[\"arr_0\"]\n",
    "test_images_10.shape"
   ]
  },
  {
   "cell_type": "code",
   "execution_count": 7,
   "id": "4b700623-6148-4dcb-adb7-d4d57a303503",
   "metadata": {},
   "outputs": [
    {
     "data": {
      "text/plain": [
       "(100, 28, 28)"
      ]
     },
     "execution_count": 7,
     "metadata": {},
     "output_type": "execute_result"
    }
   ],
   "source": [
    "test_images_100 = np.load(\"../data/test/test_images_100.npz\")[\"arr_0\"]\n",
    "test_images_100.shape"
   ]
  }
 ],
 "metadata": {
  "kernelspec": {
   "display_name": "Python 3 (ipykernel)",
   "language": "python",
   "name": "python3"
  },
  "language_info": {
   "codemirror_mode": {
    "name": "ipython",
    "version": 3
   },
   "file_extension": ".py",
   "mimetype": "text/x-python",
   "name": "python",
   "nbconvert_exporter": "python",
   "pygments_lexer": "ipython3",
   "version": "3.10.10"
  }
 },
 "nbformat": 4,
 "nbformat_minor": 5
}
